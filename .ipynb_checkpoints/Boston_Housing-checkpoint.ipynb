{
 "cells": [
  {
   "cell_type": "code",
   "execution_count": 1,
   "metadata": {},
   "outputs": [],
   "source": [
    "%matplotlib widget"
   ]
  },
  {
   "cell_type": "code",
   "execution_count": 2,
   "metadata": {
    "id": "QqjEN4qLNU2W"
   },
   "outputs": [],
   "source": [
    "import numpy as np\n",
    "import matplotlib.pyplot as plt \n",
    "import math\n",
    "import pandas as pd  \n",
    "import seaborn as sns \n",
    "from mpl_toolkits.mplot3d import Axes3D\n",
    "from matplotlib import cm\n",
    "import random\n",
    "from progressbar import ProgressBar\n",
    "from sklearn.metrics import r2_score\n",
    "\n",
    "from mpl_toolkits.mplot3d import Axes3D\n",
    "import celluloid\n",
    "from celluloid import Camera"
   ]
  },
  {
   "cell_type": "code",
   "execution_count": 30,
   "metadata": {},
   "outputs": [],
   "source": [
    "def gen_data(num_of_training_data_points, bias, variance):\n",
    "    x = np.zeros(shape=(num_of_training_data_points, 2))\n",
    "    y = np.zeros(shape=num_of_training_data_points)\n",
    "\n",
    "    # above will generate a data for a straight line\n",
    "    for i in range(0, num_of_training_data_points):\n",
    "        # bias feature\n",
    "        x[i][0] = 1\n",
    "        x[i][1] = i\n",
    "\n",
    "        #our target variable\n",
    "        y[i] = (i + bias) + random.uniform(0, 1) * variance\n",
    "\n",
    "    return x, y"
   ]
  },
  {
   "cell_type": "code",
   "execution_count": 60,
   "metadata": {},
   "outputs": [
    {
     "data": {
      "application/vnd.jupyter.widget-view+json": {
       "model_id": "2cc32cadd5de40f2a13ad684496c8257",
       "version_major": 2,
       "version_minor": 0
      },
      "text/plain": [
       "Canvas(toolbar=Toolbar(toolitems=[('Home', 'Reset original view', 'home', 'home'), ('Back', 'Back to previous …"
      ]
     },
     "metadata": {},
     "output_type": "display_data"
    },
    {
     "data": {
      "text/plain": [
       "<matplotlib.collections.PathCollection at 0x7fba4c78d7d0>"
      ]
     },
     "execution_count": 60,
     "metadata": {},
     "output_type": "execute_result"
    }
   ],
   "source": [
    "x, y = gen_data(10, 0, 0)\n",
    "fig, ax = plt.subplots(figsize=(10,7))\n",
    "ax.scatter(x[:,1], y)"
   ]
  },
  {
   "cell_type": "code",
   "execution_count": 3,
   "metadata": {
    "id": "UOksrt94Ngq8"
   },
   "outputs": [],
   "source": [
    "from sklearn.datasets import load_boston\n",
    "boston_dataset = load_boston()"
   ]
  },
  {
   "cell_type": "code",
   "execution_count": 4,
   "metadata": {
    "id": "EoykKBf_Nh8-"
   },
   "outputs": [],
   "source": [
    "boston = pd.DataFrame(boston_dataset.data, columns=boston_dataset.feature_names)"
   ]
  },
  {
   "cell_type": "code",
   "execution_count": 5,
   "metadata": {
    "colab": {
     "base_uri": "https://localhost:8080/"
    },
    "id": "G_uOA52tNvYM",
    "outputId": "dbd30306-6030-479a-90ea-7b9edfe9b51f"
   },
   "outputs": [
    {
     "data": {
      "text/plain": [
       "array(['CRIM', 'ZN', 'INDUS', 'CHAS', 'NOX', 'RM', 'AGE', 'DIS', 'RAD',\n",
       "       'TAX', 'PTRATIO', 'B', 'LSTAT'], dtype='<U7')"
      ]
     },
     "execution_count": 5,
     "metadata": {},
     "output_type": "execute_result"
    }
   ],
   "source": [
    "boston_dataset.feature_names"
   ]
  },
  {
   "cell_type": "code",
   "execution_count": 6,
   "metadata": {
    "id": "pHxUXrY_NqSc"
   },
   "outputs": [],
   "source": [
    "boston['MEDV'] = boston_dataset.target"
   ]
  },
  {
   "cell_type": "code",
   "execution_count": 7,
   "metadata": {
    "colab": {
     "base_uri": "https://localhost:8080/",
     "height": 204
    },
    "id": "pI2OhBQ4Nqw8",
    "outputId": "a42897aa-2b71-422c-ef9f-7def9a8ed08b"
   },
   "outputs": [
    {
     "data": {
      "text/html": [
       "<div>\n",
       "<style scoped>\n",
       "    .dataframe tbody tr th:only-of-type {\n",
       "        vertical-align: middle;\n",
       "    }\n",
       "\n",
       "    .dataframe tbody tr th {\n",
       "        vertical-align: top;\n",
       "    }\n",
       "\n",
       "    .dataframe thead th {\n",
       "        text-align: right;\n",
       "    }\n",
       "</style>\n",
       "<table border=\"1\" class=\"dataframe\">\n",
       "  <thead>\n",
       "    <tr style=\"text-align: right;\">\n",
       "      <th></th>\n",
       "      <th>CRIM</th>\n",
       "      <th>ZN</th>\n",
       "      <th>INDUS</th>\n",
       "      <th>CHAS</th>\n",
       "      <th>NOX</th>\n",
       "      <th>RM</th>\n",
       "      <th>AGE</th>\n",
       "      <th>DIS</th>\n",
       "      <th>RAD</th>\n",
       "      <th>TAX</th>\n",
       "      <th>PTRATIO</th>\n",
       "      <th>B</th>\n",
       "      <th>LSTAT</th>\n",
       "      <th>MEDV</th>\n",
       "    </tr>\n",
       "  </thead>\n",
       "  <tbody>\n",
       "    <tr>\n",
       "      <th>0</th>\n",
       "      <td>0.00632</td>\n",
       "      <td>18.0</td>\n",
       "      <td>2.31</td>\n",
       "      <td>0.0</td>\n",
       "      <td>0.538</td>\n",
       "      <td>6.575</td>\n",
       "      <td>65.2</td>\n",
       "      <td>4.0900</td>\n",
       "      <td>1.0</td>\n",
       "      <td>296.0</td>\n",
       "      <td>15.3</td>\n",
       "      <td>396.90</td>\n",
       "      <td>4.98</td>\n",
       "      <td>24.0</td>\n",
       "    </tr>\n",
       "    <tr>\n",
       "      <th>1</th>\n",
       "      <td>0.02731</td>\n",
       "      <td>0.0</td>\n",
       "      <td>7.07</td>\n",
       "      <td>0.0</td>\n",
       "      <td>0.469</td>\n",
       "      <td>6.421</td>\n",
       "      <td>78.9</td>\n",
       "      <td>4.9671</td>\n",
       "      <td>2.0</td>\n",
       "      <td>242.0</td>\n",
       "      <td>17.8</td>\n",
       "      <td>396.90</td>\n",
       "      <td>9.14</td>\n",
       "      <td>21.6</td>\n",
       "    </tr>\n",
       "    <tr>\n",
       "      <th>2</th>\n",
       "      <td>0.02729</td>\n",
       "      <td>0.0</td>\n",
       "      <td>7.07</td>\n",
       "      <td>0.0</td>\n",
       "      <td>0.469</td>\n",
       "      <td>7.185</td>\n",
       "      <td>61.1</td>\n",
       "      <td>4.9671</td>\n",
       "      <td>2.0</td>\n",
       "      <td>242.0</td>\n",
       "      <td>17.8</td>\n",
       "      <td>392.83</td>\n",
       "      <td>4.03</td>\n",
       "      <td>34.7</td>\n",
       "    </tr>\n",
       "    <tr>\n",
       "      <th>3</th>\n",
       "      <td>0.03237</td>\n",
       "      <td>0.0</td>\n",
       "      <td>2.18</td>\n",
       "      <td>0.0</td>\n",
       "      <td>0.458</td>\n",
       "      <td>6.998</td>\n",
       "      <td>45.8</td>\n",
       "      <td>6.0622</td>\n",
       "      <td>3.0</td>\n",
       "      <td>222.0</td>\n",
       "      <td>18.7</td>\n",
       "      <td>394.63</td>\n",
       "      <td>2.94</td>\n",
       "      <td>33.4</td>\n",
       "    </tr>\n",
       "    <tr>\n",
       "      <th>4</th>\n",
       "      <td>0.06905</td>\n",
       "      <td>0.0</td>\n",
       "      <td>2.18</td>\n",
       "      <td>0.0</td>\n",
       "      <td>0.458</td>\n",
       "      <td>7.147</td>\n",
       "      <td>54.2</td>\n",
       "      <td>6.0622</td>\n",
       "      <td>3.0</td>\n",
       "      <td>222.0</td>\n",
       "      <td>18.7</td>\n",
       "      <td>396.90</td>\n",
       "      <td>5.33</td>\n",
       "      <td>36.2</td>\n",
       "    </tr>\n",
       "  </tbody>\n",
       "</table>\n",
       "</div>"
      ],
      "text/plain": [
       "      CRIM    ZN  INDUS  CHAS    NOX     RM   AGE     DIS  RAD    TAX  \\\n",
       "0  0.00632  18.0   2.31   0.0  0.538  6.575  65.2  4.0900  1.0  296.0   \n",
       "1  0.02731   0.0   7.07   0.0  0.469  6.421  78.9  4.9671  2.0  242.0   \n",
       "2  0.02729   0.0   7.07   0.0  0.469  7.185  61.1  4.9671  2.0  242.0   \n",
       "3  0.03237   0.0   2.18   0.0  0.458  6.998  45.8  6.0622  3.0  222.0   \n",
       "4  0.06905   0.0   2.18   0.0  0.458  7.147  54.2  6.0622  3.0  222.0   \n",
       "\n",
       "   PTRATIO       B  LSTAT  MEDV  \n",
       "0     15.3  396.90   4.98  24.0  \n",
       "1     17.8  396.90   9.14  21.6  \n",
       "2     17.8  392.83   4.03  34.7  \n",
       "3     18.7  394.63   2.94  33.4  \n",
       "4     18.7  396.90   5.33  36.2  "
      ]
     },
     "execution_count": 7,
     "metadata": {},
     "output_type": "execute_result"
    }
   ],
   "source": [
    "boston.head()"
   ]
  },
  {
   "cell_type": "code",
   "execution_count": 8,
   "metadata": {
    "colab": {
     "base_uri": "https://localhost:8080/",
     "height": 612
    },
    "id": "wU1odZibOl-n",
    "outputId": "6eeb6cfe-5dc9-476a-8b36-fd0964cfd96a"
   },
   "outputs": [
    {
     "data": {
      "application/vnd.jupyter.widget-view+json": {
       "model_id": "7241b6de50ca495e872ffa0e56c9ff3c",
       "version_major": 2,
       "version_minor": 0
      },
      "text/plain": [
       "Canvas(toolbar=Toolbar(toolitems=[('Home', 'Reset original view', 'home', 'home'), ('Back', 'Back to previous …"
      ]
     },
     "metadata": {},
     "output_type": "display_data"
    },
    {
     "data": {
      "text/plain": [
       "<AxesSubplot:>"
      ]
     },
     "execution_count": 8,
     "metadata": {},
     "output_type": "execute_result"
    }
   ],
   "source": [
    "correlation_matrix = boston.corr().round(2)\n",
    "# annot = True to print the values inside the square\n",
    "fig, ax = plt.subplots(figsize=(11,9))\n",
    "sns.heatmap(data=correlation_matrix, annot=True, linewidths=0)"
   ]
  },
  {
   "cell_type": "code",
   "execution_count": 9,
   "metadata": {
    "colab": {
     "base_uri": "https://localhost:8080/",
     "height": 638
    },
    "id": "f1GSt3gzRJtl",
    "outputId": "3a5b8f58-5630-4f47-bc7c-1bd6379ba278"
   },
   "outputs": [
    {
     "data": {
      "application/vnd.jupyter.widget-view+json": {
       "model_id": "6e48c405d61d48c8b3435b7402df65dc",
       "version_major": 2,
       "version_minor": 0
      },
      "text/plain": [
       "Canvas(toolbar=Toolbar(toolitems=[('Home', 'Reset original view', 'home', 'home'), ('Back', 'Back to previous …"
      ]
     },
     "metadata": {},
     "output_type": "display_data"
    },
    {
     "data": {
      "text/plain": [
       "Text(0, 0.5, 'PRICE')"
      ]
     },
     "execution_count": 9,
     "metadata": {},
     "output_type": "execute_result"
    }
   ],
   "source": [
    "fig, ax = plt.subplots(figsize=(9,7))\n",
    "plt.scatter(boston.LSTAT, boston.MEDV)\n",
    "plt.title('LSTAT VS PRICE')\n",
    "plt.xlabel('LSAT')\n",
    "plt.ylabel('PRICE')"
   ]
  },
  {
   "cell_type": "code",
   "execution_count": 10,
   "metadata": {
    "colab": {
     "base_uri": "https://localhost:8080/",
     "height": 638
    },
    "id": "FOKs1cLRSAzs",
    "outputId": "65455cf6-315f-4b7a-c5c6-72526dd97175"
   },
   "outputs": [
    {
     "data": {
      "application/vnd.jupyter.widget-view+json": {
       "model_id": "aa8b3500f58e4972a88cd419fc61dd00",
       "version_major": 2,
       "version_minor": 0
      },
      "text/plain": [
       "Canvas(toolbar=Toolbar(toolitems=[('Home', 'Reset original view', 'home', 'home'), ('Back', 'Back to previous …"
      ]
     },
     "metadata": {},
     "output_type": "display_data"
    },
    {
     "data": {
      "text/plain": [
       "Text(0, 0.5, 'PRICE')"
      ]
     },
     "execution_count": 10,
     "metadata": {},
     "output_type": "execute_result"
    }
   ],
   "source": [
    "fig, ax = plt.subplots(figsize=(9,7))\n",
    "ax.scatter(boston.RM, boston.MEDV)\n",
    "plt.title('RM VS PRICE')\n",
    "plt.xlabel('RM')\n",
    "plt.ylabel('PRICE')"
   ]
  },
  {
   "cell_type": "code",
   "execution_count": 11,
   "metadata": {
    "id": "77I2Zc-_Shu4"
   },
   "outputs": [],
   "source": [
    "def cost_function_1param(X, y, theta1):\n",
    "    h_x = theta1*X\n",
    "    n = len(X)\n",
    "    mean_sq_err = sum((h_x - y)**2)\n",
    "    loss = mean_sq_err/(2*n)\n",
    "    return loss"
   ]
  },
  {
   "cell_type": "code",
   "execution_count": 12,
   "metadata": {
    "id": "S0-gTwXHuelf"
   },
   "outputs": [],
   "source": [
    "x = boston.RM\n",
    "y = boston.MEDV"
   ]
  },
  {
   "cell_type": "code",
   "execution_count": 13,
   "metadata": {
    "colab": {
     "base_uri": "https://localhost:8080/",
     "height": 609
    },
    "id": "Up2199uwWJ4p",
    "outputId": "e6a055f2-760d-457d-b42c-68636800f099"
   },
   "outputs": [
    {
     "data": {
      "application/vnd.jupyter.widget-view+json": {
       "model_id": "d45bf76b7eef42c8bcb095a3a1f5b4aa",
       "version_major": 2,
       "version_minor": 0
      },
      "text/plain": [
       "Canvas(toolbar=Toolbar(toolitems=[('Home', 'Reset original view', 'home', 'home'), ('Back', 'Back to previous …"
      ]
     },
     "metadata": {},
     "output_type": "display_data"
    },
    {
     "data": {
      "text/plain": [
       "[<matplotlib.lines.Line2D at 0x7ff8adbab990>]"
      ]
     },
     "execution_count": 13,
     "metadata": {},
     "output_type": "execute_result"
    }
   ],
   "source": [
    "theta1 = np.arange(-100, 100, 1)\n",
    "costs = []\n",
    "fig, ax = plt.subplots(figsize=(9,7))\n",
    "for i in theta1:\n",
    "    costs.append(cost_function_1param(x, y, i))\n",
    "ax.plot(theta1, costs)"
   ]
  },
  {
   "cell_type": "code",
   "execution_count": 14,
   "metadata": {
    "id": "lP9n5joKjpTN"
   },
   "outputs": [],
   "source": [
    "def create_data(features):\n",
    "    length = boston.shape[0]\n",
    "    x = np.ones((length, 1))\n",
    "    for i in features:\n",
    "        x1 = np.array(boston[i]).reshape(length, 1)\n",
    "        x1 /= np.ptp(x1)\n",
    "        x = np.concatenate((x, x1), axis=1)\n",
    "    y = np.array(boston.MEDV).reshape(length, 1)\n",
    "    return x, y"
   ]
  },
  {
   "cell_type": "code",
   "execution_count": 22,
   "metadata": {},
   "outputs": [],
   "source": [
    "x, y = create_data(['LSTAT'])"
   ]
  },
  {
   "cell_type": "code",
   "execution_count": 25,
   "metadata": {},
   "outputs": [
    {
     "data": {
      "text/plain": [
       "((506, 2), (506,))"
      ]
     },
     "execution_count": 25,
     "metadata": {},
     "output_type": "execute_result"
    }
   ],
   "source": [
    "y = np.array(boston.MEDV)\n",
    "x.shape,y.shape"
   ]
  },
  {
   "cell_type": "code",
   "execution_count": 26,
   "metadata": {},
   "outputs": [],
   "source": [
    "def cost(X, y, theta):\n",
    "    inner = np.power((np.dot(x, theta) - y), 2)\n",
    "    return np.sum(inner) / (2 * len(X))"
   ]
  },
  {
   "cell_type": "code",
   "execution_count": 45,
   "metadata": {
    "colab": {
     "base_uri": "https://localhost:8080/"
    },
    "id": "wx3YRNI0fqD_",
    "outputId": "a8274726-d377-4d7e-9003-97b2dd31c550"
   },
   "outputs": [
    {
     "name": "stdout",
     "output_type": "stream",
     "text": [
      "[[0.]\n",
      " [0.]]\n",
      "149813.17\n"
     ]
    }
   ],
   "source": [
    "theta = np.zeros((x.shape[1], 1))\n",
    "print(theta)\n",
    "print(cost(x,y,theta))"
   ]
  },
  {
   "cell_type": "markdown",
   "metadata": {},
   "source": [
    "# Visualising Cost Function"
   ]
  },
  {
   "cell_type": "code",
   "execution_count": 31,
   "metadata": {
    "id": "gPcGhJuDyf2P"
   },
   "outputs": [],
   "source": [
    "scale = 1*(10**11)\n",
    "start = -1*scale\n",
    "stop = 1*scale\n",
    "step = 1*(scale/100)\n",
    "my_thetas_lst = []\n",
    "for theta_0 in np.arange(start, stop, step):\n",
    "    for theta_1 in np.arange(start, stop, step):\n",
    "        my_thetas_lst.append(np.array([theta_0, theta_1]))"
   ]
  },
  {
   "cell_type": "code",
   "execution_count": 32,
   "metadata": {
    "id": "VrrCMc1LyrNH"
   },
   "outputs": [
    {
     "name": "stderr",
     "output_type": "stream",
     "text": [
      "100% |########################################################################|\n"
     ]
    }
   ],
   "source": [
    "costs = []\n",
    "pbar = ProgressBar()\n",
    "for my_thetas in pbar(my_thetas_lst):\n",
    "    if x.shape[1]-2>2:\n",
    "        shape = x.shape[1]-2\n",
    "    else:\n",
    "        shape = 0\n",
    "    my_thetas = np.append(my_thetas, np.zeros(shape)).reshape(x.shape[1])\n",
    "    cost_linear = cost(x, y, my_thetas)\n",
    "    costs.append(cost_linear)\n",
    "\n",
    "theta_0_lst = [x[0] for x in my_thetas_lst]\n",
    "theta_1_lst = [x[-1] for x in my_thetas_lst]\n",
    "\n",
    "np.save('theta0', theta_0_lst)\n",
    "np.save('theta1', theta_1_lst)\n",
    "np.save('costs', costs)"
   ]
  },
  {
   "cell_type": "markdown",
   "metadata": {},
   "source": [
    "# Gradient Descent"
   ]
  },
  {
   "cell_type": "code",
   "execution_count": 33,
   "metadata": {},
   "outputs": [],
   "source": [
    "def gradient_descent(x, y, theta, alpha, m, iterations_num):\n",
    "    pbar = ProgressBar()\n",
    "    loss_history = []\n",
    "    t_hist = []\n",
    "    for i in pbar(range(iterations_num)):\n",
    "        hypothesis = np.dot(x, theta)\n",
    "        loss_ = hypothesis - y\n",
    "        cost = np.sum(loss_ ** 2) / (2*m)\n",
    "        loss_history.append(cost)\n",
    "        t_hist.append(theta)\n",
    "        vectorized_gradient = np.dot(x.T, loss_) / m\n",
    "        theta = theta - alpha * vectorized_gradient\n",
    "    return theta, loss_history, t_hist"
   ]
  },
  {
   "cell_type": "code",
   "execution_count": 51,
   "metadata": {},
   "outputs": [
    {
     "name": "stderr",
     "output_type": "stream",
     "text": [
      "100% |########################################################################|\n"
     ]
    },
    {
     "data": {
      "text/plain": [
       "19.275703034689244"
      ]
     },
     "execution_count": 51,
     "metadata": {},
     "output_type": "execute_result"
    }
   ],
   "source": [
    "theta = theta = np.zeros((x.shape[1]))\n",
    "lr = 0.1\n",
    "iterations = 1000\n",
    "t, l, t_hist = gradient_descent(x, y, theta, lr, len(x), iterations)\n",
    "t_hist = np.array(t_hist)\n",
    "np.min(l)"
   ]
  },
  {
   "cell_type": "code",
   "execution_count": 52,
   "metadata": {},
   "outputs": [
    {
     "data": {
      "application/vnd.jupyter.widget-view+json": {
       "model_id": "3da182ba69a8441e803dbc3f1a28306b",
       "version_major": 2,
       "version_minor": 0
      },
      "text/plain": [
       "Canvas(toolbar=Toolbar(toolitems=[('Home', 'Reset original view', 'home', 'home'), ('Back', 'Back to previous …"
      ]
     },
     "metadata": {},
     "output_type": "display_data"
    }
   ],
   "source": [
    "fig, ax = plt.subplots(figsize=(10,7))\n",
    "ax.plot(range(0,iterations), l)\n",
    "fig.tight_layout()"
   ]
  },
  {
   "cell_type": "code",
   "execution_count": 53,
   "metadata": {},
   "outputs": [],
   "source": [
    "def accuracy(x, y, t):\n",
    "    pred = np.dot(x, t)\n",
    "    acc = ((pred - y)/y)*100\n",
    "    val = np.mean(acc)\n",
    "    return val"
   ]
  },
  {
   "cell_type": "code",
   "execution_count": 54,
   "metadata": {},
   "outputs": [
    {
     "data": {
      "text/plain": [
       "5.855971183221481"
      ]
     },
     "execution_count": 54,
     "metadata": {},
     "output_type": "execute_result"
    }
   ],
   "source": [
    "accuracy(x, y, t)"
   ]
  },
  {
   "cell_type": "code",
   "execution_count": 55,
   "metadata": {},
   "outputs": [
    {
     "data": {
      "text/plain": [
       "0.5433411679764149"
      ]
     },
     "execution_count": 55,
     "metadata": {},
     "output_type": "execute_result"
    }
   ],
   "source": [
    "pred = np.dot(x, t)\n",
    "r2_score(y, pred)"
   ]
  },
  {
   "cell_type": "code",
   "execution_count": 56,
   "metadata": {},
   "outputs": [
    {
     "data": {
      "application/vnd.jupyter.widget-view+json": {
       "model_id": "ee7f0d943262451caeccd0dcd75d6d08",
       "version_major": 2,
       "version_minor": 0
      },
      "text/plain": [
       "Canvas(toolbar=Toolbar(toolitems=[('Home', 'Reset original view', 'home', 'home'), ('Back', 'Back to previous …"
      ]
     },
     "metadata": {},
     "output_type": "display_data"
    }
   ],
   "source": [
    "fig, ax = plt.subplots(figsize=(10,7))\n",
    "# ax = plt.axes(xlim=(0, len(x)+50), ylim=(np.min(y)-50, np.max(y)+50))\n",
    "pred = np.dot(x, t)\n",
    "ax.plot(x[:,1], pred, c='black')\n",
    "ax.scatter(x[:,1], y)\n",
    "fig.tight_layout()"
   ]
  },
  {
   "cell_type": "code",
   "execution_count": 57,
   "metadata": {},
   "outputs": [
    {
     "name": "stderr",
     "output_type": "stream",
     "text": [
      "100% |########################################################################|\n"
     ]
    },
    {
     "data": {
      "text/plain": [
       "83"
      ]
     },
     "execution_count": 57,
     "metadata": {},
     "output_type": "execute_result"
    }
   ],
   "source": [
    "def split_iter(iterations):\n",
    "    pbar = ProgressBar()\n",
    "    length = len(str(iterations))\n",
    "    div = np.arange(iterations)\n",
    "    cnt_a = 2\n",
    "    if length >= 5:\n",
    "        cnt_a = length-2\n",
    "    r = 3\n",
    "    if length >=5:\n",
    "        r = length - 3\n",
    "        \n",
    "    divisions = np.array_split(div, iterations/length**(r+1))\n",
    "    cnt = 0\n",
    "    q = []\n",
    "    if length >= 5:\n",
    "        cnt_a = 5\n",
    "    for i in pbar(divisions):\n",
    "        cnt += cnt_a\n",
    "        f = pow(2, cnt)\n",
    "        q = np.append(q, np.arange(np.min(i), np.max(i), f))\n",
    "    return q\n",
    "len(split_iter(10000))"
   ]
  },
  {
   "cell_type": "code",
   "execution_count": 58,
   "metadata": {},
   "outputs": [
    {
     "name": "stderr",
     "output_type": "stream",
     "text": [
      "100% |########################################################################|\r"
     ]
    },
    {
     "name": "stdout",
     "output_type": "stream",
     "text": [
      "111\n"
     ]
    },
    {
     "name": "stderr",
     "output_type": "stream",
     "text": [
      "\n"
     ]
    }
   ],
   "source": [
    "epochs = np.arange(iterations)\n",
    "theta0 = np.array(t_hist[:,0])\n",
    "theta1 = np.array(t_hist[:,1])\n",
    "costs = np.array(l)\n",
    "xp = np.array(x[:,1])\n",
    "\n",
    "def predict(t):\n",
    "    pred = np.dot(x, t)\n",
    "    return pred\n",
    "\n",
    "div = split_iter(iterations)\n",
    "\n",
    "div = np.array(div).astype('int')\n",
    "print(len(div))"
   ]
  },
  {
   "cell_type": "code",
   "execution_count": 59,
   "metadata": {},
   "outputs": [
    {
     "data": {
      "application/vnd.jupyter.widget-view+json": {
       "model_id": "6a215f7a9a5545f0860d150395967ca0",
       "version_major": 2,
       "version_minor": 0
      },
      "text/plain": [
       "Canvas(toolbar=Toolbar(toolitems=[('Home', 'Reset original view', 'home', 'home'), ('Back', 'Back to previous …"
      ]
     },
     "metadata": {},
     "output_type": "display_data"
    },
    {
     "name": "stderr",
     "output_type": "stream",
     "text": [
      "100% |########################################################################|\n"
     ]
    }
   ],
   "source": [
    "fig, (ax, ax3) = plt.subplots(2, 1, figsize=(13, 30))\n",
    "\n",
    "camera = Camera(fig)\n",
    "\n",
    "pbar = ProgressBar()\n",
    "\n",
    "for i in pbar(div):\n",
    "\n",
    "    ax.scatter(xp, y, color='grey')\n",
    "    ax.plot(xp, predict(t_hist[i]), c='black')\n",
    "    ax.legend([f'Epoch: {i}'])\n",
    "    ax.set_xlabel('X')\n",
    "    ax.set_ylabel('Y')\n",
    "\n",
    "    ax3.plot(epochs, costs, color='grey')\n",
    "    ax3.scatter(i, costs[i], color='black')\n",
    "    ax3.legend([f'Epoch: {i}'])\n",
    "    ax3.set_xlabel('Epochs')\n",
    "    ax3.set_ylabel('Costs')\n",
    "\n",
    "    camera.snap()\n",
    "\n",
    "\n",
    "animation = camera.animate(interval = 100, repeat = False, repeat_delay = 500)\n",
    "\n",
    "animation.save('visualize_gradient.gif')\n",
    "plt.close()"
   ]
  },
  {
   "cell_type": "code",
   "execution_count": 60,
   "metadata": {},
   "outputs": [
    {
     "data": {
      "application/vnd.jupyter.widget-view+json": {
       "model_id": "be666dbb0aa348208a74068f9e9074a6",
       "version_major": 2,
       "version_minor": 0
      },
      "text/plain": [
       "Canvas(toolbar=Toolbar(toolitems=[('Home', 'Reset original view', 'home', 'home'), ('Back', 'Back to previous …"
      ]
     },
     "metadata": {},
     "output_type": "display_data"
    },
    {
     "name": "stderr",
     "output_type": "stream",
     "text": [
      "100% |########################################################################|\n"
     ]
    }
   ],
   "source": [
    "# Third Animation\n",
    "fig = plt.figure(figsize=(10,10))  \n",
    "\n",
    "ax2 = fig.add_subplot(111, projection='3d') # projection='3d'\n",
    "ax2.set_title(\"cost function\", fontsize=30)\n",
    "ax2.view_init(elev=20., azim=145)           # set view\n",
    "camera = Camera(fig)\n",
    "\n",
    "pbar = ProgressBar()\n",
    "\n",
    "for i in pbar(div):       \n",
    "\n",
    "    ax2.plot_trisurf(theta0, theta1, costs, color='b', alpha=0.35) # create surface plot\n",
    "    ax2.scatter(theta0[i],theta1[i],costs[i],marker='o', s=12**2, color='orange' )\n",
    "    ax2.set_xlabel(\"w\", fontsize=25, labelpad=10)\n",
    "    ax2.set_ylabel(\"b\", fontsize=25, labelpad=10)\n",
    "    ax2.set_zlabel(\"costs\", fontsize=25, labelpad=-35) # negative value for labelpad places z-label left of z-axis.\n",
    "    ax2.tick_params(axis='both', which='major', labelsize=15) \n",
    "    ax2.plot(theta0[0:i],theta1[0:i],costs[0:i], linestyle=\"dashed\",linewidth=2, color=\"grey\") # (dashed) lineplot\n",
    "    \n",
    "    plt.tight_layout()\n",
    "    camera.snap()\n",
    "    \n",
    "animation = camera.animate(interval = 5, repeat = False, repeat_delay = 500)\n",
    "animation.save('SimpleLinReg_3.gif', writer = 'imagemagick')\n",
    "plt.close()"
   ]
  },
  {
   "cell_type": "code",
   "execution_count": null,
   "metadata": {},
   "outputs": [],
   "source": [
    "pow(4, 2)"
   ]
  },
  {
   "cell_type": "code",
   "execution_count": null,
   "metadata": {},
   "outputs": [],
   "source": []
  }
 ],
 "metadata": {
  "colab": {
   "name": "Boston Housing.ipynb",
   "provenance": []
  },
  "kernelspec": {
   "display_name": "Python 3",
   "language": "python",
   "name": "python3"
  },
  "language_info": {
   "codemirror_mode": {
    "name": "ipython",
    "version": 3
   },
   "file_extension": ".py",
   "mimetype": "text/x-python",
   "name": "python",
   "nbconvert_exporter": "python",
   "pygments_lexer": "ipython3",
   "version": "3.7.9"
  }
 },
 "nbformat": 4,
 "nbformat_minor": 4
}
